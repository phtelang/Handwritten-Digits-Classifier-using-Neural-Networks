{
 "cells": [
  {
   "cell_type": "markdown",
   "metadata": {},
   "source": [
    "## Handwritten Digit Classifier using Neural Networks\n",
    "\n",
    "In this project, we will build models that can classify images of handwritten digits (0-9) using deep learning or neural networks. \n",
    "\n",
    "The goal of this project is to:\n",
    "1. Understand why image classification is a hard task\n",
    "2. observe the limitations of traditional machine learning models for image classification\n",
    "3. train, test, and improve a few different deep neural networks for image classification\n",
    "\n",
    "A deep neural network is a specific type of neural network that excels at capturing nonlinear relationships in data. Deep learning is effective in image classification because of the models' ability to learn hierarchical representations. Neural networks are usually represented as graphs which let us compactly express a pipeline of functions that we want to be executed in succession. At the heart of neural network models is the successive computation of functions. This is known as a computational graph. A computational graph uses nodes to describe variables and edges to describe how variables are combined. Inspired by biological neural networks, an activation function determines if the neuron fires or not. In a neural network model, the activation function transforms the weighted sum of the input values.\n",
    "\n",
    "We will be using load_digits function() which returns a copy of the __[hand-written dataset](http://archive.ics.uci.edu/ml/datasets/Optical+Recognition+of+Handwritten+Digits)__ from UCI. It contains 1797 records. We will use different models with different layers and activation methods and check the prediction accuracy.\n",
    "\n",
    "### Summary of Results\n",
    "Highest accuracy of 95.99% was achieved using two hidden layers and 95.5% using \"relu\" activation method.\n",
    "\n",
    "### Read Data"
   ]
  },
  {
   "cell_type": "code",
   "execution_count": 34,
   "metadata": {},
   "outputs": [],
   "source": [
    "#Import required libraries\n",
    "from sklearn.datasets import load_digits\n",
    "import pandas as pd\n",
    "import numpy as np\n",
    "import matplotlib.pyplot as plt\n",
    "from sklearn.neighbors import KNeighborsClassifier\n",
    "from sklearn.model_selection import KFold\n",
    "from sklearn.neural_network import MLPClassifier\n",
    "from sklearn.tree import DecisionTreeClassifier\n",
    "from sklearn.ensemble import RandomForestClassifier"
   ]
  },
  {
   "cell_type": "code",
   "execution_count": 35,
   "metadata": {},
   "outputs": [
    {
     "data": {
      "text/plain": [
       "(1797, 64)"
      ]
     },
     "execution_count": 35,
     "metadata": {},
     "output_type": "execute_result"
    }
   ],
   "source": [
    "##The load_digits() function returns a copy of the hand-written digits dataset from UCI. Load the data as a numpy array\n",
    "digits = load_digits()\n",
    "\n",
    "#Check data shape\n",
    "digits.data.shape"
   ]
  },
  {
   "cell_type": "code",
   "execution_count": 36,
   "metadata": {},
   "outputs": [
    {
     "data": {
      "text/plain": [
       "dict_keys(['data', 'target', 'target_names', 'images', 'DESCR'])"
      ]
     },
     "execution_count": 36,
     "metadata": {},
     "output_type": "execute_result"
    }
   ],
   "source": [
    "#Check keys\n",
    "digits.keys()"
   ]
  },
  {
   "cell_type": "code",
   "execution_count": 37,
   "metadata": {},
   "outputs": [],
   "source": [
    "#Transform the NumPy 2D array into a pandas dataframe.\n",
    "data = pd.DataFrame(digits[\"data\"])"
   ]
  },
  {
   "cell_type": "code",
   "execution_count": 38,
   "metadata": {
    "scrolled": false
   },
   "outputs": [
    {
     "data": {
      "text/html": [
       "<div>\n",
       "<style scoped>\n",
       "    .dataframe tbody tr th:only-of-type {\n",
       "        vertical-align: middle;\n",
       "    }\n",
       "\n",
       "    .dataframe tbody tr th {\n",
       "        vertical-align: top;\n",
       "    }\n",
       "\n",
       "    .dataframe thead th {\n",
       "        text-align: right;\n",
       "    }\n",
       "</style>\n",
       "<table border=\"1\" class=\"dataframe\">\n",
       "  <thead>\n",
       "    <tr style=\"text-align: right;\">\n",
       "      <th></th>\n",
       "      <th>0</th>\n",
       "      <th>1</th>\n",
       "      <th>2</th>\n",
       "      <th>3</th>\n",
       "      <th>4</th>\n",
       "      <th>5</th>\n",
       "      <th>6</th>\n",
       "      <th>7</th>\n",
       "      <th>8</th>\n",
       "      <th>9</th>\n",
       "      <th>...</th>\n",
       "      <th>54</th>\n",
       "      <th>55</th>\n",
       "      <th>56</th>\n",
       "      <th>57</th>\n",
       "      <th>58</th>\n",
       "      <th>59</th>\n",
       "      <th>60</th>\n",
       "      <th>61</th>\n",
       "      <th>62</th>\n",
       "      <th>63</th>\n",
       "    </tr>\n",
       "  </thead>\n",
       "  <tbody>\n",
       "    <tr>\n",
       "      <th>0</th>\n",
       "      <td>0.0</td>\n",
       "      <td>0.0</td>\n",
       "      <td>5.0</td>\n",
       "      <td>13.0</td>\n",
       "      <td>9.0</td>\n",
       "      <td>1.0</td>\n",
       "      <td>0.0</td>\n",
       "      <td>0.0</td>\n",
       "      <td>0.0</td>\n",
       "      <td>0.0</td>\n",
       "      <td>...</td>\n",
       "      <td>0.0</td>\n",
       "      <td>0.0</td>\n",
       "      <td>0.0</td>\n",
       "      <td>0.0</td>\n",
       "      <td>6.0</td>\n",
       "      <td>13.0</td>\n",
       "      <td>10.0</td>\n",
       "      <td>0.0</td>\n",
       "      <td>0.0</td>\n",
       "      <td>0.0</td>\n",
       "    </tr>\n",
       "    <tr>\n",
       "      <th>1</th>\n",
       "      <td>0.0</td>\n",
       "      <td>0.0</td>\n",
       "      <td>0.0</td>\n",
       "      <td>12.0</td>\n",
       "      <td>13.0</td>\n",
       "      <td>5.0</td>\n",
       "      <td>0.0</td>\n",
       "      <td>0.0</td>\n",
       "      <td>0.0</td>\n",
       "      <td>0.0</td>\n",
       "      <td>...</td>\n",
       "      <td>0.0</td>\n",
       "      <td>0.0</td>\n",
       "      <td>0.0</td>\n",
       "      <td>0.0</td>\n",
       "      <td>0.0</td>\n",
       "      <td>11.0</td>\n",
       "      <td>16.0</td>\n",
       "      <td>10.0</td>\n",
       "      <td>0.0</td>\n",
       "      <td>0.0</td>\n",
       "    </tr>\n",
       "  </tbody>\n",
       "</table>\n",
       "<p>2 rows × 64 columns</p>\n",
       "</div>"
      ],
      "text/plain": [
       "    0    1    2     3     4    5    6    7    8    9   ...   54   55   56  \\\n",
       "0  0.0  0.0  5.0  13.0   9.0  1.0  0.0  0.0  0.0  0.0  ...  0.0  0.0  0.0   \n",
       "1  0.0  0.0  0.0  12.0  13.0  5.0  0.0  0.0  0.0  0.0  ...  0.0  0.0  0.0   \n",
       "\n",
       "    57   58    59    60    61   62   63  \n",
       "0  0.0  6.0  13.0  10.0   0.0  0.0  0.0  \n",
       "1  0.0  0.0  11.0  16.0  10.0  0.0  0.0  \n",
       "\n",
       "[2 rows x 64 columns]"
      ]
     },
     "execution_count": 38,
     "metadata": {},
     "output_type": "execute_result"
    }
   ],
   "source": [
    "#Check data in the dataframe. Each image is represented as a row of pixel values. \n",
    "data.head(2)"
   ]
  },
  {
   "cell_type": "code",
   "execution_count": 39,
   "metadata": {},
   "outputs": [],
   "source": [
    "labels = pd.Series(digits[\"target\"])"
   ]
  },
  {
   "cell_type": "markdown",
   "metadata": {},
   "source": [
    "### Image Data\n",
    "To visualize the image, we need to reshape these pixel values back into the 8 by 8 and plot them on a coordinate grid. To reshape the image, we need to convert the row data to a numpy array. "
   ]
  },
  {
   "cell_type": "code",
   "execution_count": 40,
   "metadata": {
    "scrolled": true
   },
   "outputs": [
    {
     "data": {
      "text/plain": [
       "<matplotlib.image.AxesImage at 0x1ae4be6f2e8>"
      ]
     },
     "execution_count": 40,
     "metadata": {},
     "output_type": "execute_result"
    },
    {
     "data": {
      "image/png": "[encoded data removed]",
      "text/plain": [
       "<Figure size 432x288 with 1 Axes>"
      ]
     },
     "metadata": {
      "needs_background": "light"
     },
     "output_type": "display_data"
    }
   ],
   "source": [
    "#Plot data for the first row\n",
    "first_image = data.iloc[0]\n",
    "np_image = first_image.values\n",
    "np_image = np_image.reshape(8,8)\n",
    "\n",
    "#Data is now in the right shape to be visualized\n",
    "plt.imshow(np_image, cmap='gray_r')"
   ]
  },
  {
   "cell_type": "code",
   "execution_count": 41,
   "metadata": {
    "scrolled": true
   },
   "outputs": [
    {
     "data": {
      "text/plain": [
       "<matplotlib.image.AxesImage at 0x1ae4c091b00>"
      ]
     },
     "execution_count": 41,
     "metadata": {},
     "output_type": "execute_result"
    },
    {
     "data": {
      "image/png": "[encoded data removed]",
      "text/plain": [
       "<Figure size 432x288 with 8 Axes>"
      ]
     },
     "metadata": {
      "needs_background": "light"
     },
     "output_type": "display_data"
    }
   ],
   "source": [
    "#Display data from multiple rows\n",
    "f, axarr = plt.subplots(2, 4)\n",
    "\n",
    "axarr[0, 0].imshow(data.iloc[0].values.reshape(8,8), cmap = 'gray_r')\n",
    "axarr[0, 1].imshow(data.iloc[99].values.reshape(8,8), cmap='gray_r')\n",
    "axarr[0, 2].imshow(data.iloc[199].values.reshape(8,8), cmap='gray_r')\n",
    "axarr[0, 3].imshow(data.iloc[299].values.reshape(8,8), cmap='gray_r')\n",
    "\n",
    "axarr[1, 0].imshow(data.iloc[999].values.reshape(8,8), cmap='gray_r')\n",
    "axarr[1, 1].imshow(data.iloc[1099].values.reshape(8,8), cmap='gray_r')\n",
    "axarr[1, 2].imshow(data.iloc[1199].values.reshape(8,8), cmap='gray_r')\n",
    "axarr[1, 3].imshow(data.iloc[1299].values.reshape(8,8), cmap='gray_r')"
   ]
  },
  {
   "cell_type": "markdown",
   "metadata": {},
   "source": [
    "### Difficulties in Image Classification\n",
    "Image classification especially hand written images are difficult to classify because:\n",
    "1. Each image in a training set is high dimensional. Each pixel in an image is a feature and a separate column. This means that a 128 x 128 image has 16384 features.\n",
    "2. Images are often reduced to lower resolutions and transformed to grayscale (no color). This is a limitation of compute power unfortunately. The resolution of a 8 megapixel photo has 3264 by 2448 pixels, for a total of 7,990,272 features (or about 8 million). Images of this resolution are usually scaled down to between 128 and 512 pixels in either direction for significantly faster processing. This often results in a loss of detail that's available for training and pattern matching.\n",
    "3. The features in an image don't have an obvious linear or nonlinear relationship that can be learned with a model like linear or logistic regression. In grayscale, each pixel is just represented as a brightness value ranging from 0 to 256.\n",
    "4. Many people write a single digit in very different styles. \n",
    "\n",
    "Deep learning is effective in image classification because of the models' ability to learn hierarchical representations. An effective deep learning model learns intermediate representations at each layer in the model and uses them in the prediction process. For example, in facial recocgnition, in the first hidden layer the network learns to represent edges and specific features of faces. In the second hidden layer, the weights represent higher level facial features like eyes and noses. Finally, the weights in the last hidden layer resemble faces. Each successive layer uses weights from previous layers to try to learn more complex representations.\n",
    "\n",
    "### K-Nearest Neighbors Model\n",
    "The k-nearest neighbors algorithm makes no assumptions about the linearity between the features and the output labels, hence this allows them to capture nonlinearity in the data. \n",
    "\n",
    "The k-nearest neighbors algorithm compares every unseen observation in the test set to all (or many, as some implementations constrain the search space) training observations to look for similar (or the \"nearest\") observations. Then, the algorithm finds the label with the most nearby observations and assigns that as the prediction for the unseen observation.\n",
    "\n",
    "We will start predicting the hand-written digits with KNN below. Before we start, we will create some generic functions to train the model, test data accuracy and cross validate data."
   ]
  },
  {
   "cell_type": "code",
   "execution_count": 42,
   "metadata": {},
   "outputs": [],
   "source": [
    "#Train model on train dataset \n",
    "def train(neighbors, train_features, train_labels):\n",
    "    knn = KNeighborsClassifier(n_neighbors = neighbors)\n",
    "    knn.fit(train_features, train_labels)\n",
    "    return knn"
   ]
  },
  {
   "cell_type": "code",
   "execution_count": 43,
   "metadata": {},
   "outputs": [],
   "source": [
    "#Compute accuracy of prediction on the test dataset\n",
    "def test(knn, test_features, test_labels):\n",
    "    predictions = knn.predict(test_features)\n",
    "    train_test_df = pd.DataFrame()\n",
    "    train_test_df[\"correct labels\"] = test_labels\n",
    "    train_test_df[\"predicted labels\"] = predictions\n",
    "    accuracy = sum(train_test_df[\"predicted labels\"] == train_test_df[\"correct labels\"])/len(train_test_df)\n",
    "    return accuracy"
   ]
  },
  {
   "cell_type": "code",
   "execution_count": 44,
   "metadata": {},
   "outputs": [],
   "source": [
    "#cross_validate() function to perform 4-fold cross validation using train() and test() functions\n",
    "def cross_validate(k, data,labels):\n",
    "    fold_accuracies = []\n",
    "    kf = KFold(n_splits=4, random_state=2)\n",
    "    \n",
    "    #Split data into train and test datasets for prediction\n",
    "    for train_index, test_index in kf.split(data):\n",
    "        train_features, test_features = data.loc[train_index], data.loc[test_index]\n",
    "        train_labels, test_labels = labels.loc[train_index], labels.loc[test_index]\n",
    "        #Train model on train dataset\n",
    "        knn_model = train(k, train_features, train_labels)\n",
    "        #Get accuracy of prediction on the test dataset\n",
    "        accuracy = test(knn_model, test_features, test_labels)\n",
    "        fold_accuracies.append(accuracy)\n",
    "    return fold_accuracies"
   ]
  },
  {
   "cell_type": "markdown",
   "metadata": {},
   "source": [
    "Let us use KNN model to predict using 1 fold."
   ]
  },
  {
   "cell_type": "code",
   "execution_count": 45,
   "metadata": {},
   "outputs": [
    {
     "data": {
      "text/plain": [
       "0.9677233358079684"
      ]
     },
     "execution_count": 45,
     "metadata": {},
     "output_type": "execute_result"
    }
   ],
   "source": [
    "#Call function for k = 1\n",
    "knn_1_accuracy = cross_validate(1, data, labels)\n",
    "#Calculate the mean accuracy of all the folds\n",
    "np.mean(knn_1_accuracy)"
   ]
  },
  {
   "cell_type": "markdown",
   "metadata": {},
   "source": [
    "Let us now vary the folds from 1 to 10."
   ]
  },
  {
   "cell_type": "code",
   "execution_count": 46,
   "metadata": {
    "scrolled": true
   },
   "outputs": [
    {
     "data": {
      "text/plain": [
       "Text(0.5, 1.0, 'MEAN ACUURACY Vs. k-VALUES')"
      ]
     },
     "execution_count": 46,
     "metadata": {},
     "output_type": "execute_result"
    },
    {
     "data": {
      "image/png": "[encoded data removed]",
      "text/plain": [
       "<Figure size 576x288 with 1 Axes>"
      ]
     },
     "metadata": {
      "needs_background": "light"
     },
     "output_type": "display_data"
    }
   ],
   "source": [
    "#Vary the k values from 1 to 10 and plot the accuracy\n",
    "k_values = list(range(1,10))\n",
    "k_overall_accuracies = []\n",
    "for k in k_values:\n",
    "    accuracy = cross_validate(k, data,labels)\n",
    "    k_mean_accuracy = np.mean(accuracy)\n",
    "    k_overall_accuracies.append(k_mean_accuracy)\n",
    "    \n",
    "plt.figure(figsize=(8,4))\n",
    "plt.plot(k_values, k_overall_accuracies)\n",
    "plt.title(\"MEAN ACUURACY Vs. k-VALUES\")"
   ]
  },
  {
   "cell_type": "markdown",
   "metadata": {},
   "source": [
    "We are getting the highest accuracy at k = 1 and the lowest at k = 9. There is no continuous trend of accuray values as k varies.\n",
    "\n",
    "There are a few downsides to using k-nearest neighbors:\n",
    "1. High memory usage (for each new unseen observation.\n",
    "2. Many comparisons need to be made to seen observations) no model representation to debug and explore.\n",
    "\n",
    "### Neural Network With One Hidden Layer\n",
    "To make a prediction, a single layer of neural networks in these networks directly fed their results into the output neuron(s).\n",
    "We will train our neural network using one hidden layer and varying neurons."
   ]
  },
  {
   "cell_type": "code",
   "execution_count": 47,
   "metadata": {
    "scrolled": true
   },
   "outputs": [],
   "source": [
    "#Train model on train dataset \n",
    "def train(neurons, train_features, train_labels):\n",
    "    mlp = MLPClassifier(hidden_layer_sizes=neurons, max_iter=1000)\n",
    "    mlp.fit(train_features, train_labels)\n",
    "    return mlp"
   ]
  },
  {
   "cell_type": "code",
   "execution_count": 48,
   "metadata": {},
   "outputs": [],
   "source": [
    "#Compute accuracy of prediction on the test dataset\n",
    "def test(mlp, test_features, test_labels):\n",
    "    predictions = mlp.predict(test_features)\n",
    "    train_test_df = pd.DataFrame()\n",
    "    train_test_df[\"correct labels\"] = test_labels\n",
    "    train_test_df[\"predicted labels\"] = predictions\n",
    "    accuracy = sum(train_test_df[\"predicted labels\"] == train_test_df[\"correct labels\"])/len(train_test_df)\n",
    "    return accuracy"
   ]
  },
  {
   "cell_type": "code",
   "execution_count": 49,
   "metadata": {},
   "outputs": [],
   "source": [
    "#cross_validate() function to perform 4-fold cross validation using train() and test() functions\n",
    "def cross_validate(neurons, data, labels):\n",
    "    fold_accuracies = []\n",
    "    kf = KFold(n_splits = 4, random_state = 2)\n",
    "    #Split data into train and test datasets for prediction\n",
    "    for train_index, test_index in kf.split(data):\n",
    "        train_features, test_features = data.loc[train_index], data.loc[test_index]\n",
    "        train_labels, test_labels = labels.loc[train_index], labels.loc[test_index]\n",
    "        #Train model on train dataset \n",
    "        mlp_model = train(neurons, train_features, train_labels)\n",
    "        #Get accuracy of prediction on the test dataset\n",
    "        accuracy = test(mlp_model, test_features, test_labels)\n",
    "        fold_accuracies.append(accuracy)\n",
    "    return fold_accuracies"
   ]
  },
  {
   "cell_type": "markdown",
   "metadata": {},
   "source": [
    "We will not train and test a neural network model using a single hidden layer with 8, 16, 32, 64, 128, 256 neurons and 4-fold cross validation."
   ]
  },
  {
   "cell_type": "code",
   "execution_count": 50,
   "metadata": {
    "scrolled": false
   },
   "outputs": [
    {
     "name": "stderr",
     "output_type": "stream",
     "text": [
      "C:\\Users\\phtel\\AppData\\Local\\Continuum\\anaconda3\\lib\\site-packages\\sklearn\\neural_network\\multilayer_perceptron.py:566: ConvergenceWarning: Stochastic Optimizer: Maximum iterations (1000) reached and the optimization hasn't converged yet.\n",
      "  % self.max_iter, ConvergenceWarning)\n"
     ]
    }
   ],
   "source": [
    "#Using 4-fold cross validation: Train and test a neural network model using a single hidden layer with 8, 16, 32, 64, 128, 256 neurons\n",
    "neurons_one = [(8,),\n",
    "    (16,),\n",
    "    (32,),\n",
    "    (64,),\n",
    "    (128,),\n",
    "    (256,)]\n",
    "mlp_accuracies = []\n",
    "\n",
    "#Calculate accuracy for each number of neurons\n",
    "for neuron in neurons_one:\n",
    "    mlp_accuracy = cross_validate(neuron, data, labels)\n",
    "    accuracy = np.mean(mlp_accuracy)\n",
    "    mlp_accuracies.append(accuracy)"
   ]
  },
  {
   "cell_type": "markdown",
   "metadata": {},
   "source": [
    "Let us plot the prediction accuracies using a single layer of neural networks."
   ]
  },
  {
   "cell_type": "code",
   "execution_count": 51,
   "metadata": {},
   "outputs": [
    {
     "data": {
      "text/plain": [
       "[<matplotlib.lines.Line2D at 0x1ae4c168c50>]"
      ]
     },
     "execution_count": 51,
     "metadata": {},
     "output_type": "execute_result"
    },
    {
     "data": {
      "image/png": "[encoded data removed]",
      "text/plain": [
       "<Figure size 432x288 with 1 Axes>"
      ]
     },
     "metadata": {
      "needs_background": "light"
     },
     "output_type": "display_data"
    }
   ],
   "source": [
    "plt.figure(figsize=(8,4))\n",
    "\n",
    "#Plot the accuracies for all number of neurons\n",
    "%matplotlib inline \n",
    "plt.title(\"MEAN ACUURACY Vs. NEURONS IN ONE HIDDEN LAYER\")\n",
    "x = [i[0] for i in neurons_one]\n",
    "plt.plot(x, mlp_accuracies)"
   ]
  },
  {
   "cell_type": "code",
   "execution_count": 52,
   "metadata": {
    "scrolled": true
   },
   "outputs": [
    {
     "name": "stdout",
     "output_type": "stream",
     "text": [
      "[0.8914761197723335, 0.9309910913140312, 0.9326614699331849, 0.9454578074733976, 0.9415713932195001, 0.947133135362534]\n"
     ]
    }
   ],
   "source": [
    "print (mlp_accuracies)"
   ]
  },
  {
   "cell_type": "markdown",
   "metadata": {},
   "source": [
    "It looks like adding more neurons to the single hidden layer helped massively improved simple accuracy from approximately 90% to approximately 95%. Simple accuracy computes the number of correct classifications the model made, but doesn't tell us anything about false or true positives or false or true negatives.\n",
    "\n",
    "Given that k-nearest neighbors achieved approximately 96% accuracy, there doesn't seem to be any advantages to using a single hidden layer neural network for this problem.\n",
    "\n",
    "### Neural Network With Two Hidden Layers\n",
    "Multi-layer networks (also known as deep neural networks) are able to better capture nonlinearity in the data. In a deep neural network, the first layer of input neurons feeds into a second, intermediate layer of neurons.  We will modify the neural network training pipeline to use 2 hidden layers instead in the network."
   ]
  },
  {
   "cell_type": "code",
   "execution_count": 53,
   "metadata": {
    "scrolled": true
   },
   "outputs": [],
   "source": [
    "#Using 4-fold cross validation: Train and test a neural network model using two hidden layers with (64, 64), (128, 128) and (256, 256) neurons in each layer.\n",
    "neurons_two = [\n",
    "    (64,64),\n",
    "    (128,128),\n",
    "    (256,256)\n",
    "]\n",
    "mlp_two_accuracies = []\n",
    "\n",
    "#Calculate accuracy for each number of neurons\n",
    "for neuron in neurons_two:\n",
    "    mlp_two_accuracy = cross_validate(neuron, data, labels)\n",
    "    accuracy_two = np.mean(mlp_two_accuracy)\n",
    "    mlp_two_accuracies.append(accuracy_two)"
   ]
  },
  {
   "cell_type": "markdown",
   "metadata": {},
   "source": [
    "Let us plot the prediction accuracies using a neural network with two hidden layers."
   ]
  },
  {
   "cell_type": "code",
   "execution_count": 54,
   "metadata": {},
   "outputs": [
    {
     "data": {
      "text/plain": [
       "[<matplotlib.lines.Line2D at 0x1ae4c1bf9e8>]"
      ]
     },
     "execution_count": 54,
     "metadata": {},
     "output_type": "execute_result"
    },
    {
     "data": {
      "image/png": "[encoded data removed]",
      "text/plain": [
       "<Figure size 576x288 with 1 Axes>"
      ]
     },
     "metadata": {
      "needs_background": "light"
     },
     "output_type": "display_data"
    }
   ],
   "source": [
    "#Plot the accuracies for all number of neurons\n",
    "plt.figure(figsize=(8,4))\n",
    "plt.title(\"MEAN ACCURACY Vs. NEUONS IN TWO HIDDEN LAYERS\")\n",
    "x = [i[0] for i in neurons_two]\n",
    "plt.plot(x, mlp_two_accuracies)"
   ]
  },
  {
   "cell_type": "code",
   "execution_count": 55,
   "metadata": {
    "scrolled": true
   },
   "outputs": [
    {
     "name": "stdout",
     "output_type": "stream",
     "text": [
      "[0.9471306607275426, 0.9532541450136105, 0.9577010640930463]\n"
     ]
    }
   ],
   "source": [
    "print (mlp_two_accuracies)"
   ]
  },
  {
   "cell_type": "markdown",
   "metadata": {},
   "source": [
    "With two hidden layers, the accuracy has slightly increased as compared with one hidden layer.\n",
    "\n",
    "#### Neural Network With Three Hidden Layers\n",
    "Modify the neural network training pipeline to use 3 hidden layers instead in the network."
   ]
  },
  {
   "cell_type": "code",
   "execution_count": 56,
   "metadata": {
    "scrolled": false
   },
   "outputs": [],
   "source": [
    "#Using 4-fold cross validation: Train and test a neural network model using three hidden layers with (10, 10, 10), (64, 64, 64), (128, 128, 128) neurons in each layer.\n",
    "neurons_three = [\n",
    "    (10, 10, 10),\n",
    "    (64, 64, 64),\n",
    "    (128, 128, 128)\n",
    "]\n",
    "\n",
    "mlp_three_accuracies = []\n",
    "\n",
    "#Calculate accuracy for each number of neurons\n",
    "for neurons in neurons_three:\n",
    "    mlp_three_accuracy = cross_validate(neurons, data, labels)\n",
    "    accuracy_three = np.mean(mlp_three_accuracy)\n",
    "    mlp_three_accuracies.append(accuracy_three)"
   ]
  },
  {
   "cell_type": "markdown",
   "metadata": {},
   "source": [
    "Let us plot the prediction accuracies using a neural network with three hidden layers."
   ]
  },
  {
   "cell_type": "code",
   "execution_count": 57,
   "metadata": {},
   "outputs": [
    {
     "data": {
      "text/plain": [
       "[<matplotlib.lines.Line2D at 0x1ae4c2b0908>]"
      ]
     },
     "execution_count": 57,
     "metadata": {},
     "output_type": "execute_result"
    },
    {
     "data": {
      "image/png": "[encoded data removed]",
      "text/plain": [
       "<Figure size 576x288 with 1 Axes>"
      ]
     },
     "metadata": {
      "needs_background": "light"
     },
     "output_type": "display_data"
    }
   ],
   "source": [
    "#Plot the accuracies for all number of neurons\n",
    "plt.figure(figsize=(8,4))\n",
    "plt.title(\"MEAN ACCURACY Vs. NEURONS IN THREE HIDDEN LAYERS\")\n",
    "\n",
    "x = [i[0] for i in neurons_three]\n",
    "plt.plot(x, mlp_three_accuracies)"
   ]
  },
  {
   "cell_type": "code",
   "execution_count": 58,
   "metadata": {
    "scrolled": true
   },
   "outputs": [
    {
     "name": "stdout",
     "output_type": "stream",
     "text": [
      "[0.9092959663449641, 0.9382232120762187, 0.9476812670131155]\n"
     ]
    }
   ],
   "source": [
    "print (mlp_three_accuracies)"
   ]
  },
  {
   "cell_type": "markdown",
   "metadata": {},
   "source": [
    "We got the highest accuracy using two layers of 95.77%\n",
    "\n",
    "### Different Activation Functions\n",
    "The activation function transforms the weighted sum of the input values. This transformed output is then sen to the next layer of neurons as input. \n",
    "A neural network without an activation function is just a linear regression model. The activation function work on the non-linear transformation of the input making it capable to learn complex tasks.\n",
    "\n",
    "We will use the relu and logistic activation functions.\n",
    "1. ReLU stands for rectified linear unit and is defined as follows: ReLU(x) = max(0,x). The function call returns the maximum value between 0 and x.\n",
    "2. In a binary classification problem, the target values are 0 and 1 and the relationship between the features and the target values is nonlinear. This means we need a function that can perform a nonlinear transformation of the input features. The sigmoid function is a good choice since all of its input values are squashed to range between 0 and 1."
   ]
  },
  {
   "cell_type": "code",
   "execution_count": 59,
   "metadata": {},
   "outputs": [],
   "source": [
    "#Train model on train dataset \n",
    "def train(neurons, act, train_features, train_labels):\n",
    "    mlp = MLPClassifier(hidden_layer_sizes=neurons, activation = act, max_iter=1000) #Activation added\n",
    "    mlp.fit(train_features, train_labels)\n",
    "    return mlp"
   ]
  },
  {
   "cell_type": "code",
   "execution_count": 60,
   "metadata": {},
   "outputs": [],
   "source": [
    "#Compute accuracy of prediction on the test dataset\n",
    "def test(mlp, test_features, test_labels):\n",
    "    predictions = mlp.predict(test_features)\n",
    "    train_test_df = pd.DataFrame()\n",
    "    train_test_df[\"correct labels\"] = test_labels\n",
    "    train_test_df[\"predicted labels\"] = predictions\n",
    "    accuracy = sum(train_test_df[\"predicted labels\"] == train_test_df[\"correct labels\"])/len(train_test_df)\n",
    "    return accuracy"
   ]
  },
  {
   "cell_type": "code",
   "execution_count": 61,
   "metadata": {},
   "outputs": [],
   "source": [
    "#cross_validate() function to perform 4-fold cross validation using train() and test() functions\n",
    "def cross_validate(neurons, act, data,labels):\n",
    "    fold_accuracies = []\n",
    "    kf = KFold(n_splits=4, random_state=2)\n",
    "    #Split data into train and test datasets for prediction\n",
    "    for train_index, test_index in kf.split(data):\n",
    "        train_features, test_features = data.loc[train_index], data.loc[test_index]\n",
    "        train_labels, test_labels = labels.loc[train_index], labels.loc[test_index]\n",
    "        #Train model on train dataset \n",
    "        mlp_model = train(neurons, act, train_features, train_labels)\n",
    "        #Get accuracy of prediction on the test dataset\n",
    "        accuracy = test(mlp_model, test_features, test_labels)\n",
    "        fold_accuracies.append(accuracy)\n",
    "    return fold_accuracies"
   ]
  },
  {
   "cell_type": "markdown",
   "metadata": {},
   "source": [
    "As we got the highest accuracy using two hidden layers, let us use this on the sigmoid and relu activation function."
   ]
  },
  {
   "cell_type": "code",
   "execution_count": 62,
   "metadata": {
    "scrolled": true
   },
   "outputs": [],
   "source": [
    "#Check accuracy using two hidden layers and different activation functions\n",
    "neurons_two = [\n",
    "    (64,64),\n",
    "    (128,128),\n",
    "    (256,256)\n",
    "]\n",
    "mlp_two_accuracies = []\n",
    "mlp_two_accuracies_relu = []\n",
    "\n",
    "#Compute accuracy with activation function \"logistic\" (non-linear)\n",
    "for neuron in neurons_two:\n",
    "    mlp_two_accuracy = cross_validate(neuron, \"logistic\", data, labels)\n",
    "    accuracy_two = np.mean(mlp_two_accuracy)\n",
    "    mlp_two_accuracies.append(accuracy_two)\n",
    "    \n",
    "#Compute accuracy with activation function \"relu\" (linear)\n",
    "for neuron in neurons_two:\n",
    "    mlp_two_accuracy_relu = cross_validate(neuron, \"relu\", data, labels)\n",
    "    accuracy_two_relu = np.mean(mlp_two_accuracy_relu)\n",
    "    mlp_two_accuracies_relu.append(accuracy_two_relu)    "
   ]
  },
  {
   "cell_type": "code",
   "execution_count": 63,
   "metadata": {},
   "outputs": [
    {
     "data": {
      "text/plain": [
       "[<matplotlib.lines.Line2D at 0x1ae4c333780>]"
      ]
     },
     "execution_count": 63,
     "metadata": {},
     "output_type": "execute_result"
    },
    {
     "data": {
      "image/png": "[encoded data removed]",
      "text/plain": [
       "<Figure size 576x288 with 1 Axes>"
      ]
     },
     "metadata": {
      "needs_background": "light"
     },
     "output_type": "display_data"
    }
   ],
   "source": [
    "#Plot the accuracies for all number of neurons\n",
    "plt.figure(figsize=(8,4))\n",
    "plt.title(\"MEAN ACCURACY Vs. NEURONS IN TWO HIDDEN LAYERS USING 'logistic'\")\n",
    "x = [i[0] for i in neurons_two]\n",
    "plt.plot(x, mlp_two_accuracies)"
   ]
  },
  {
   "cell_type": "code",
   "execution_count": 64,
   "metadata": {},
   "outputs": [
    {
     "data": {
      "text/plain": [
       "[<matplotlib.lines.Line2D at 0x1ae4c39efd0>]"
      ]
     },
     "execution_count": 64,
     "metadata": {},
     "output_type": "execute_result"
    },
    {
     "data": {
      "image/png": "[encoded data removed]",
      "text/plain": [
       "<Figure size 576x288 with 1 Axes>"
      ]
     },
     "metadata": {
      "needs_background": "light"
     },
     "output_type": "display_data"
    }
   ],
   "source": [
    "plt.figure(figsize=(8,4))\n",
    "plt.title(\"MEAN ACCURACY Vs. NEURONS IN TWO HIDDEN LAYERS USING 'relu'\")\n",
    "x = [i[0] for i in neurons_two]\n",
    "plt.plot(x, mlp_two_accuracies_relu)"
   ]
  },
  {
   "cell_type": "code",
   "execution_count": 65,
   "metadata": {
    "scrolled": false
   },
   "outputs": [
    {
     "name": "stdout",
     "output_type": "stream",
     "text": [
      "[0.9476874536005939, 0.9493553575847562, 0.9487973273942093]\n",
      "[0.9465825290769612, 0.9437960900767136, 0.9543689680772087]\n"
     ]
    }
   ],
   "source": [
    "print (mlp_two_accuracies)\n",
    "print (mlp_two_accuracies_relu)"
   ]
  },
  {
   "cell_type": "markdown",
   "metadata": {},
   "source": [
    "We got an accuracy of 95.5% using \"relu\" activation method."
   ]
  },
  {
   "cell_type": "code",
   "execution_count": 66,
   "metadata": {},
   "outputs": [
    {
     "name": "stderr",
     "output_type": "stream",
     "text": [
      "C:\\Users\\phtel\\AppData\\Local\\Continuum\\anaconda3\\lib\\site-packages\\sklearn\\neural_network\\multilayer_perceptron.py:566: ConvergenceWarning: Stochastic Optimizer: Maximum iterations (1000) reached and the optimization hasn't converged yet.\n",
      "  % self.max_iter, ConvergenceWarning)\n",
      "C:\\Users\\phtel\\AppData\\Local\\Continuum\\anaconda3\\lib\\site-packages\\sklearn\\neural_network\\multilayer_perceptron.py:566: ConvergenceWarning: Stochastic Optimizer: Maximum iterations (1000) reached and the optimization hasn't converged yet.\n",
      "  % self.max_iter, ConvergenceWarning)\n"
     ]
    }
   ],
   "source": [
    "#Check accuracy using three hidden layers and different activation functions\n",
    "neurons_three = [\n",
    "    (10, 10, 10),\n",
    "    (64, 64, 64),\n",
    "    (128, 128, 128)\n",
    "]\n",
    "\n",
    "mlp_three_accuracies = []\n",
    "mlp_three_accuracies_relu = []\n",
    "\n",
    "#Compute accuracy with activation function \"logistic\" (non-linear)\n",
    "for neurons in neurons_three:\n",
    "    mlp_three_accuracy = cross_validate(neurons, \"logistic\", data, labels)\n",
    "    accuracy_three = np.mean(mlp_three_accuracy)\n",
    "    mlp_three_accuracies.append(accuracy_three)\n",
    "\n",
    "#Compute accuracy with activation function \"relu\" (linear)\n",
    "for neurons in neurons_three:\n",
    "    mlp_three_accuracy_relu = cross_validate(neurons, \"relu\", data, labels)\n",
    "    accuracy_three_relu = np.mean(mlp_three_accuracy_relu)\n",
    "    mlp_three_accuracies_relu.append(accuracy_three_relu)"
   ]
  },
  {
   "cell_type": "code",
   "execution_count": 67,
   "metadata": {},
   "outputs": [
    {
     "name": "stdout",
     "output_type": "stream",
     "text": [
      "[0.8386166790398416, 0.9343194753773818, 0.9404540955209107]\n",
      "[0.9009378866617175, 0.9432343479336798, 0.9515850037119526]\n"
     ]
    }
   ],
   "source": [
    "print (mlp_three_accuracies)\n",
    "print (mlp_three_accuracies_relu)"
   ]
  },
  {
   "cell_type": "markdown",
   "metadata": {},
   "source": [
    "The accuracy did not improve using the hidden networks with three neurons using different activation methods.\n",
    "\n",
    "### Decision Tree Model\n",
    "Let us check the accuracy using the decision tree model. Decision trees can pick up nonlinear interactions between variables in the data that linear regression can't, but they also tend to overfit and prone to instability to small changes in input data."
   ]
  },
  {
   "cell_type": "code",
   "execution_count": 68,
   "metadata": {},
   "outputs": [],
   "source": [
    "#Train model on train dataset \n",
    "def train(splits, train_features, train_labels):\n",
    "    clf = DecisionTreeClassifier(random_state=1, min_samples_split = splits)\n",
    "    clf.fit(train_features, train_labels)\n",
    "    return clf"
   ]
  },
  {
   "cell_type": "code",
   "execution_count": 69,
   "metadata": {},
   "outputs": [],
   "source": [
    "#Compute accuracy of prediction on the test dataset\n",
    "def test(clf, test_features, test_labels):\n",
    "    predictions = clf.predict(test_features)\n",
    "    train_test_df = pd.DataFrame()\n",
    "    train_test_df[\"correct labels\"] = test_labels\n",
    "    train_test_df[\"predicted labels\"] = predictions\n",
    "    accuracy = sum(train_test_df[\"predicted labels\"] == train_test_df[\"correct labels\"])/len(train_test_df)\n",
    "    return accuracy"
   ]
  },
  {
   "cell_type": "code",
   "execution_count": 70,
   "metadata": {},
   "outputs": [],
   "source": [
    "#cross_validate() function to perform 6-fold cross validation using train() and test() functions\n",
    "def cross_validate(splits, data,labels):\n",
    "    fold_accuracies = []\n",
    "    kf = KFold(n_splits=6, random_state=2)\n",
    "    #Split data into train and test datasets for prediction\n",
    "    for train_index, test_index in kf.split(data):\n",
    "        train_features, test_features = data.loc[train_index], data.loc[test_index]\n",
    "        train_labels, test_labels = labels.loc[train_index], labels.loc[test_index]\n",
    "        #Train model on train dataset \n",
    "        clf_model = train(splits, train_features, train_labels)\n",
    "        #Get accuracy of prediction on the test dataset\n",
    "        accuracy = test(clf_model, test_features, test_labels)\n",
    "        fold_accuracies.append(accuracy)\n",
    "    return fold_accuracies"
   ]
  },
  {
   "cell_type": "code",
   "execution_count": 71,
   "metadata": {
    "scrolled": true
   },
   "outputs": [
    {
     "data": {
      "text/plain": [
       "Text(0.5, 1.0, 'MEAN ACCURACY Vs. SPLITS')"
      ]
     },
     "execution_count": 71,
     "metadata": {},
     "output_type": "execute_result"
    },
    {
     "data": {
      "image/png": "[encoded data removed]",
      "text/plain": [
       "<Figure size 576x288 with 1 Axes>"
      ]
     },
     "metadata": {
      "needs_background": "light"
     },
     "output_type": "display_data"
    }
   ],
   "source": [
    "#Check accuracy for different number of splits\n",
    "splits = [2, 5, 10, 50, 100, 200, 300]\n",
    "clf_accuracies = []\n",
    "for k in splits:\n",
    "    accuracy = cross_validate(k, data,labels)\n",
    "    clf_mean_accuracy = np.mean(accuracy)\n",
    "    clf_accuracies.append(clf_mean_accuracy)\n",
    "    \n",
    "plt.figure(figsize=(8,4))\n",
    "plt.plot(splits, clf_accuracies)\n",
    "plt.title(\"MEAN ACCURACY Vs. SPLITS\")"
   ]
  },
  {
   "cell_type": "code",
   "execution_count": 72,
   "metadata": {},
   "outputs": [
    {
     "name": "stdout",
     "output_type": "stream",
     "text": [
      "[0.7991341508732814, 0.7880230397621703, 0.7835674470457078, 0.7613210702341137, 0.7312764771460424, 0.6995299145299145, 0.5926867335562988]\n"
     ]
    }
   ],
   "source": [
    "print (clf_accuracies)"
   ]
  },
  {
   "cell_type": "markdown",
   "metadata": {},
   "source": [
    "The highest accuracy achieved using Decision tree model was 80% with 2 splits. As the splits increased, the accuracy dropped."
   ]
  },
  {
   "cell_type": "markdown",
   "metadata": {},
   "source": [
    "### Ramdom Forest Model\n",
    "Let us check the accuracy using Random Forest model. Random Forest algorithm performs both classification and regression tasks using ensembling. Ensembling is done by training multiple decision trees on different data samples built by replacement. It combines the predictions of multiple models to create a more accurate final prediction. One of the major advantages of random forests over single decision trees is that they tend to overfit less."
   ]
  },
  {
   "cell_type": "code",
   "execution_count": 73,
   "metadata": {},
   "outputs": [],
   "source": [
    "#Train model on train dataset \n",
    "def train(est, splits, train_features, train_labels):\n",
    "    rfm = RandomForestClassifier(n_estimators = est, random_state=1, min_samples_leaf = splits)\n",
    "    rfm.fit(train_features, train_labels)\n",
    "    return rfm"
   ]
  },
  {
   "cell_type": "code",
   "execution_count": 74,
   "metadata": {},
   "outputs": [],
   "source": [
    "#Compute accuracy of prediction on the test dataset\n",
    "def test(rfm, test_features, test_labels):\n",
    "    predictions = rfm.predict(test_features)\n",
    "    train_test_df = pd.DataFrame()\n",
    "    train_test_df[\"correct labels\"] = test_labels\n",
    "    train_test_df[\"predicted labels\"] = predictions\n",
    "    accuracy = sum(train_test_df[\"predicted labels\"] == train_test_df[\"correct labels\"])/len(train_test_df)\n",
    "    return accuracy"
   ]
  },
  {
   "cell_type": "code",
   "execution_count": 75,
   "metadata": {},
   "outputs": [],
   "source": [
    "#cross_validate() function to perform 6-fold cross validation using train() and test() functions\n",
    "def cross_validate(est, splits, data,labels):\n",
    "    fold_accuracies = []\n",
    "    kf = KFold(n_splits=6, random_state=2)\n",
    "    #Split data into train and test datasets for prediction\n",
    "    for train_index, test_index in kf.split(data):\n",
    "        train_features, test_features = data.loc[train_index], data.loc[test_index]\n",
    "        train_labels, test_labels = labels.loc[train_index], labels.loc[test_index]\n",
    "        #Train model on train dataset \n",
    "        rfm_model = train(est, splits, train_features, train_labels)\n",
    "        #Get accuracy of prediction on the test dataset\n",
    "        accuracy = test(rfm_model, test_features, test_labels)\n",
    "        fold_accuracies.append(accuracy)\n",
    "    return fold_accuracies"
   ]
  },
  {
   "cell_type": "code",
   "execution_count": 76,
   "metadata": {
    "scrolled": false
   },
   "outputs": [
    {
     "data": {
      "text/plain": [
       "Text(0.5, 1.0, 'MEAN ACCURACY Vs. SPLITS')"
      ]
     },
     "execution_count": 76,
     "metadata": {},
     "output_type": "execute_result"
    },
    {
     "data": {
      "image/png": "[encoded data removed]",
      "text/plain": [
       "<Figure size 576x288 with 1 Axes>"
      ]
     },
     "metadata": {
      "needs_background": "light"
     },
     "output_type": "display_data"
    }
   ],
   "source": [
    "est = [10, 50, 100, 150, 200]\n",
    "rfm_accuracies = []\n",
    "for k in est:\n",
    "    accuracy = cross_validate(int(k), 5, data,labels)\n",
    "    rfm_mean_accuracy = np.mean(accuracy)\n",
    "    rfm_accuracies.append(rfm_mean_accuracy)\n",
    "    \n",
    "plt.figure(figsize=(8,4))\n",
    "plt.plot(est, rfm_accuracies)\n",
    "plt.title(\"MEAN ACCURACY Vs. SPLITS\")"
   ]
  },
  {
   "cell_type": "code",
   "execution_count": 77,
   "metadata": {
    "scrolled": false
   },
   "outputs": [
    {
     "name": "stdout",
     "output_type": "stream",
     "text": [
      "[0.9037346711259754, 0.929890375325158, 0.931553325901152, 0.9293255295429209, 0.9321144555927164]\n"
     ]
    }
   ],
   "source": [
    "print (rfm_accuracies)"
   ]
  },
  {
   "cell_type": "markdown",
   "metadata": {},
   "source": [
    "Using random forest also, we are getting an accuracy of around 93%, which is not different from the accuracies we got using hidden layers.\n",
    "\n",
    "### Conclusion\n",
    "We trained our data using KNN model, neural network models with different hidden layers and activation methods, decision tree model and random forest model. We got the highest accuracy of 95.99% using two hidden layers and 95.5% using \"relu\" activation method."
   ]
  }
 ],
 "metadata": {
  "kernelspec": {
   "display_name": "Python 3",
   "language": "python",
   "name": "python3"
  },
  "language_info": {
   "codemirror_mode": {
    "name": "ipython",
    "version": 3
   },
   "file_extension": ".py",
   "mimetype": "text/x-python",
   "name": "python",
   "nbconvert_exporter": "python",
   "pygments_lexer": "ipython3",
   "version": "3.7.3"
  }
 },
 "nbformat": 4,
 "nbformat_minor": 2
}
